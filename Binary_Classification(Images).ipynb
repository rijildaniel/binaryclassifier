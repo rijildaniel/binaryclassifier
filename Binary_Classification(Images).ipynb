{
 "cells": [
  {
   "cell_type": "code",
   "execution_count": 0,
   "metadata": {
    "id": "kYaowFZI1doz",
    "colab_type": "code",
    "outputId": "5ece3846-f5e8-40db-e6d7-54157db1dee5",
    "colab": {
     "base_uri": "https://localhost:8080/",
     "height": 204.0
    }
   },
   "outputs": [
    {
     "name": "stdout",
     "output_type": "stream",
     "text": [
      "--2019-07-06 05:50:23--  https://storage.googleapis.com/mledu-datasets/cats_and_dogs_filtered.zip\n",
      "Resolving storage.googleapis.com (storage.googleapis.com)... 74.125.142.128, 2607:f8b0:400e:c02::80\n",
      "Connecting to storage.googleapis.com (storage.googleapis.com)|74.125.142.128|:443... connected.\n",
      "HTTP request sent, awaiting response... 200 OK\n",
      "Length: 68606236 (65M) [application/zip]\n",
      "Saving to: ‘/tmp/cats_and_dogs_filtered.zip’\n",
      "\n",
      "/tmp/cats_and_dogs_ 100%[===================>]  65.43M   139MB/s    in 0.5s    \n",
      "\n",
      "2019-07-06 05:50:29 (139 MB/s) - ‘/tmp/cats_and_dogs_filtered.zip’ saved [68606236/68606236]\n",
      "\n"
     ]
    }
   ],
   "source": [
    "# Binary classification code:\n",
    "!wget --no-check-certificate \\                                       # Download the dataset\n",
    "    https://storage.googleapis.com/mledu-datasets/cats_and_dogs_filtered.zip \\\n",
    "    -O /tmp/cats_and_dogs_filtered.zip"
   ]
  },
  {
   "cell_type": "code",
   "execution_count": 0,
   "metadata": {
    "id": "0BoFc5iE5Xgb",
    "colab_type": "code",
    "colab": {}
   },
   "outputs": [],
   "source": [
    "#This is part is optional-----------------------------\n",
    "import os\n",
    "import zipfile\n",
    "\n",
    "file = \"/tmp/cats_and_dogs_filtered.zip\"\n",
    "zf = zipfile.ZipFile(file, 'r')\n",
    "zf.extractall('/tmp/cats_and_dogs_filtered')\n",
    "zf.close()\n",
    "#-------------------------------------------------------"
   ]
  },
  {
   "cell_type": "code",
   "execution_count": 16,
   "metadata": {
    "id": "6i0mI5i552fK",
    "colab_type": "code",
    "outputId": "75583ca4-faed-4ae2-b205-92623989765f",
    "colab": {
     "base_uri": "https://localhost:8080/",
     "height": 54.0
    }
   },
   "outputs": [
    {
     "name": "stdout",
     "output_type": "stream",
     "text": [
      "Enter the path to directory containing image dataset(Folder name must be named after image name): /tmp/cats_and_dogs_filtered/cats_and_dogs_filtered/train\n"
     ]
    }
   ],
   "source": [
    "#You can start from here\n",
    "#Import the dataset for training the model........................................\n",
    "path1 = str(input(\"Enter the path to directory containing image dataset(Folder name must be named after image name): \"))\n",
    "train_dst = os.path.join(path1)\n",
    "groups = os.listdir(train_dst)\n",
    "if(len(groups) !=2):\n",
    "  exit(-1)"
   ]
  },
  {
   "cell_type": "code",
   "execution_count": 17,
   "metadata": {
    "id": "I-Slz5rU6rvT",
    "colab_type": "code",
    "outputId": "e90b941f-c90f-4a2a-bca8-2f9afdbdbce0",
    "colab": {
     "base_uri": "https://localhost:8080/",
     "height": 71.0
    }
   },
   "outputs": [
    {
     "name": "stdout",
     "output_type": "stream",
     "text": [
      "Do you have validation data?(y/n): y\n",
      "Enter the path to directory containing validation image dataset(Folder name must be named after image name): /tmp/cats_and_dogs_filtered/cats_and_dogs_filtered/validation\n"
     ]
    }
   ],
   "source": [
    "#For checking the model performance and increase it.......................................\n",
    "dec = input(\"Do you have validation data?(y/n): \")\n",
    "if(dec == 'y' or dec == 'Y'):\n",
    "  path2 = input(\"Enter the path to directory containing validation image dataset(Folder name must be named after image name): \")\n",
    "  validation_dst = os.path.join(path2)\n",
    "  if(len(os.listdir(validation_dst)) !=2):\n",
    "    exit(-1)"
   ]
  },
  {
   "cell_type": "code",
   "execution_count": 20,
   "metadata": {
    "id": "tdXDwZST6L-H",
    "colab_type": "code",
    "outputId": "5064a8f8-7020-4ab3-acd2-5479de519d6d",
    "colab": {
     "base_uri": "https://localhost:8080/",
     "height": 136.0
    }
   },
   "outputs": [
    {
     "name": "stdout",
     "output_type": "stream",
     "text": [
      "Total Training Dataset: \n",
      "dogs = 1000\n",
      "cats = 1000\n",
      "Total Validation Dataset:\n",
      "dogs = 500\n",
      "cats = 500\n",
      "\n"
     ]
    }
   ],
   "source": [
    "print(\"Total Training Dataset: \")\n",
    "print(groups[0] + \" = \" + str(len(os.listdir(train_dst + \"/\" + groups[0]))))\n",
    "print(groups[1] + \" = \" + str(len(os.listdir(train_dst + \"/\" + groups[1]))))\n",
    "print(\"Total Validation Dataset:\")\n",
    "print(groups[0] + \" = \" + str(len(os.listdir(validation_dst + \"/\" + groups[0]))))\n",
    "print(groups[1] + \" = \" + str(len(os.listdir(validation_dst + \"/\" + groups[1]))))\n",
    "print()"
   ]
  },
  {
   "cell_type": "code",
   "execution_count": 21,
   "metadata": {
    "id": "MTPQrAeI-eUW",
    "colab_type": "code",
    "outputId": "604bd03f-407b-4079-8844-fc95af01b49e",
    "colab": {
     "base_uri": "https://localhost:8080/",
     "height": 1000.0
    }
   },
   "outputs": [
    {
     "name": "stdout",
     "output_type": "stream",
     "text": [
      "Model: \"sequential_1\"\n",
      "_________________________________________________________________\n",
      "Layer (type)                 Output Shape              Param #   \n",
      "=================================================================\n",
      "conv2d_5 (Conv2D)            (None, 298, 298, 16)      448       \n",
      "_________________________________________________________________\n",
      "max_pooling2d_5 (MaxPooling2 (None, 149, 149, 16)      0         \n",
      "_________________________________________________________________\n",
      "conv2d_6 (Conv2D)            (None, 147, 147, 32)      4640      \n",
      "_________________________________________________________________\n",
      "max_pooling2d_6 (MaxPooling2 (None, 73, 73, 32)        0         \n",
      "_________________________________________________________________\n",
      "conv2d_7 (Conv2D)            (None, 71, 71, 64)        18496     \n",
      "_________________________________________________________________\n",
      "max_pooling2d_7 (MaxPooling2 (None, 35, 35, 64)        0         \n",
      "_________________________________________________________________\n",
      "conv2d_8 (Conv2D)            (None, 33, 33, 64)        36928     \n",
      "_________________________________________________________________\n",
      "max_pooling2d_8 (MaxPooling2 (None, 16, 16, 64)        0         \n",
      "_________________________________________________________________\n",
      "conv2d_9 (Conv2D)            (None, 14, 14, 64)        36928     \n",
      "_________________________________________________________________\n",
      "max_pooling2d_9 (MaxPooling2 (None, 7, 7, 64)          0         \n",
      "_________________________________________________________________\n",
      "flatten_1 (Flatten)          (None, 3136)              0         \n",
      "_________________________________________________________________\n",
      "dense_2 (Dense)              (None, 512)               1606144   \n",
      "_________________________________________________________________\n",
      "dense_3 (Dense)              (None, 1)                 513       \n",
      "=================================================================\n",
      "Total params: 1,704,097\n",
      "Trainable params: 1,704,097\n",
      "Non-trainable params: 0\n",
      "_________________________________________________________________\n",
      "Found 2000 images belonging to 2 classes.\n",
      "Found 1000 images belonging to 2 classes.\n",
      "Epoch 1/15\n",
      "8/8 [==============================] - 99s 12s/step - loss: 0.8863 - acc: 0.4980 - val_loss: 0.6842 - val_acc: 0.5352\n",
      "Epoch 2/15\n",
      "8/8 [==============================] - 92s 11s/step - loss: 0.6927 - acc: 0.5236 - val_loss: 0.6896 - val_acc: 0.5547\n",
      "Epoch 3/15\n",
      "8/8 [==============================] - 89s 11s/step - loss: 0.6885 - acc: 0.5420 - val_loss: 0.6748 - val_acc: 0.6055\n",
      "Epoch 4/15\n",
      "8/8 [==============================] - 95s 12s/step - loss: 0.6879 - acc: 0.5469 - val_loss: 0.6759 - val_acc: 0.6094\n",
      "Epoch 5/15\n",
      "8/8 [==============================] - 93s 12s/step - loss: 0.6760 - acc: 0.5645 - val_loss: 0.6854 - val_acc: 0.5625\n",
      "Epoch 6/15\n",
      "8/8 [==============================] - 91s 11s/step - loss: 0.6732 - acc: 0.5717 - val_loss: 0.6611 - val_acc: 0.5781\n",
      "Epoch 7/15\n",
      "8/8 [==============================] - 89s 11s/step - loss: 0.6793 - acc: 0.5369 - val_loss: 0.6693 - val_acc: 0.5547\n",
      "Epoch 8/15\n",
      "8/8 [==============================] - 95s 12s/step - loss: 0.6631 - acc: 0.5605 - val_loss: 0.6877 - val_acc: 0.5352\n",
      "Epoch 9/15\n",
      "8/8 [==============================] - 89s 11s/step - loss: 0.6666 - acc: 0.5809 - val_loss: 0.6490 - val_acc: 0.5820\n",
      "Epoch 10/15\n",
      "8/8 [==============================] - 95s 12s/step - loss: 0.6311 - acc: 0.6172 - val_loss: 0.6954 - val_acc: 0.6172\n",
      "Epoch 11/15\n",
      "8/8 [==============================] - 93s 12s/step - loss: 0.7042 - acc: 0.5830 - val_loss: 0.6877 - val_acc: 0.5547\n",
      "Epoch 12/15\n",
      "8/8 [==============================] - 92s 11s/step - loss: 0.6366 - acc: 0.6209 - val_loss: 0.6232 - val_acc: 0.6484\n",
      "Epoch 13/15\n",
      "8/8 [==============================] - 90s 11s/step - loss: 0.6560 - acc: 0.6230 - val_loss: 0.6494 - val_acc: 0.6211\n",
      "Epoch 14/15\n",
      "8/8 [==============================] - 95s 12s/step - loss: 0.6152 - acc: 0.6592 - val_loss: 0.6011 - val_acc: 0.6758\n",
      "Epoch 15/15\n",
      "8/8 [==============================] - 94s 12s/step - loss: 0.6157 - acc: 0.6611 - val_loss: 0.5950 - val_acc: 0.6641\n"
     ]
    }
   ],
   "source": [
    "import tensorflow as tf\n",
    "\n",
    "model = tf.keras.models.Sequential([tf.keras.layers.Conv2D(16,(3,3),activation='relu',input_shape=(300,300,3)),\n",
    "                                    tf.keras.layers.MaxPooling2D(2,2),\n",
    "                                    tf.keras.layers.Conv2D(32,(3,3),activation='relu'),\n",
    "                                    tf.keras.layers.MaxPooling2D(2,2),\n",
    "                                    tf.keras.layers.Conv2D(64,(3,3),activation='relu'),\n",
    "                                    tf.keras.layers.MaxPooling2D(2,2),\n",
    "                                    tf.keras.layers.Conv2D(64,(3,3),activation='relu'),\n",
    "                                    tf.keras.layers.MaxPooling2D(2,2),\n",
    "                                    tf.keras.layers.Conv2D(64,(3,3),activation='relu'),\n",
    "                                    tf.keras.layers.MaxPooling2D(2,2),\n",
    "                                    tf.keras.layers.Flatten(),\n",
    "                                    tf.keras.layers.Dense(512,activation='relu'),\n",
    "                                    tf.keras.layers.Dense(1, activation='sigmoid')\n",
    "                                   ])\n",
    "\n",
    "model.summary()\n",
    "\n",
    "#RMSprop is efficient gradient descent algorithm\n",
    "from tensorflow.keras.optimizers import RMSprop\n",
    "model.compile(loss='binary_crossentropy', optimizer=RMSprop(lr=0.001),metrics=['acc'])\n",
    "\n",
    "#Preprocessing of images\n",
    "from tensorflow.keras.preprocessing.image import ImageDataGenerator\n",
    "# All images will be rescaled by 1./255\n",
    "trainDataGen = ImageDataGenerator(rescale=1/255)\n",
    "validationDataGen = ImageDataGenerator(rescale=1/255)\n",
    "train_generator = trainDataGen.flow_from_directory(\n",
    "                    path1,\n",
    "                    target_size=(300,300),\n",
    "                    batch_size=128,\n",
    "                    class_mode='binary'    # Since we use binary_crossentropy loss, we need binary labels\n",
    "                  )\n",
    "\n",
    "validation_generator = validationDataGen.flow_from_directory(\n",
    "                    path2,\n",
    "                    target_size=(300,300),\n",
    "                    batch_size=32,\n",
    "                    class_mode='binary'    # Since we use binary_crossentropy loss, we need binary labels\n",
    "                  )\n",
    "\n",
    "history = model.fit_generator(train_generator,\n",
    "                              steps_per_epoch=8,\n",
    "                              epochs=15,\n",
    "                              verbose=1,\n",
    "                              validation_data=validation_generator,\n",
    "                              validation_steps=8\n",
    "                             )\n"
   ]
  },
  {
   "cell_type": "code",
   "execution_count": 24,
   "metadata": {
    "id": "WES1pkHiVJJi",
    "colab_type": "code",
    "outputId": "8832b92d-4484-42e6-a8d8-cba6b8332287",
    "colab": {
     "base_uri": "https://localhost:8080/",
     "height": 51.0
    }
   },
   "outputs": [
    {
     "name": "stdout",
     "output_type": "stream",
     "text": [
      "Enter an image to test: /dog.jpg\n",
      "/dog.jpg is dogs image\n"
     ]
    }
   ],
   "source": [
    "import numpy as np\n",
    "from keras.preprocessing import image\n",
    "file = input(\"Enter an image to test: \")\n",
    "x = image.load_img(file,target_size=(300,300))   #loading image of size 300x300\n",
    "x = image.img_to_array(x)                   #loading\n",
    "x = np.expand_dims(x,axis=0)\n",
    "images = np.vstack([x])\n",
    "classes = model.predict(images, batch_size=10)\n",
    "\n",
    "if classes[0]>0.5:\n",
    "   print(file + ' is ' + groups[0] + ' image')\n",
    "else:\n",
    "    print(file + ' is ' + groups[1] + ' image')"
   ]
  }
 ],
 "metadata": {
  "colab": {
   "name": "Binary Classification(Images).ipynb",
   "version": "0.3.2",
   "provenance": [],
   "collapsed_sections": []
  },
  "kernelspec": {
   "name": "python3",
   "display_name": "Python 3"
  }
 },
 "nbformat": 4,
 "nbformat_minor": 0
}
